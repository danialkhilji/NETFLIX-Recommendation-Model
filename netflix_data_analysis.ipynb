{
 "cells": [
  {
   "cell_type": "markdown",
   "metadata": {},
   "source": [
    "<p style=\"font-family: Arial; font-size:3.5em;font-style:bold\"><br>\n",
    "NETFLIX Data Analysis</p><br>"
   ]
  },
  {
   "cell_type": "markdown",
   "metadata": {},
   "source": [
    "The aim of this project is to recommend movie based on the given dataset. The dataset is a NETFLIX dataset consisting of around 20 million rows, 4000 movies and 400000 users.\n",
    "\n"
   ]
  },
  {
   "cell_type": "markdown",
   "metadata": {},
   "source": [
    "<p style=\"font-family: Arial; font-size:1.75em;color:#2462C0; font-style:bold\">\n",
    "Importing Libraries</p>"
   ]
  },
  {
   "cell_type": "markdown",
   "metadata": {},
   "source": [
    "Importing necessary libraries. Main purpose of using so many libraries is that it reduces the number of lines in code by simply using predefined functions."
   ]
  },
  {
   "cell_type": "code",
   "execution_count": 2,
   "metadata": {
    "scrolled": true
   },
   "outputs": [
    {
     "ename": "ModuleNotFoundError",
     "evalue": "No module named 'surprise'",
     "output_type": "error",
     "traceback": [
      "\u001b[1;31m---------------------------------------------------------------------------\u001b[0m",
      "\u001b[1;31mModuleNotFoundError\u001b[0m                       Traceback (most recent call last)",
      "\u001b[1;32m<ipython-input-2-926b5137fa0f>\u001b[0m in \u001b[0;36m<module>\u001b[1;34m\u001b[0m\n\u001b[0;32m      5\u001b[0m \u001b[1;32mimport\u001b[0m \u001b[0mmatplotlib\u001b[0m\u001b[1;33m.\u001b[0m\u001b[0mpyplot\u001b[0m \u001b[1;32mas\u001b[0m \u001b[0mplt\u001b[0m\u001b[1;33m\u001b[0m\u001b[1;33m\u001b[0m\u001b[0m\n\u001b[0;32m      6\u001b[0m \u001b[1;32mimport\u001b[0m \u001b[0mre\u001b[0m\u001b[1;33m\u001b[0m\u001b[1;33m\u001b[0m\u001b[0m\n\u001b[1;32m----> 7\u001b[1;33m \u001b[1;32mfrom\u001b[0m \u001b[0msurprise\u001b[0m \u001b[1;32mimport\u001b[0m \u001b[0mSVD\u001b[0m\u001b[1;33m,\u001b[0m \u001b[0mReader\u001b[0m\u001b[1;33m,\u001b[0m \u001b[0mDataset\u001b[0m\u001b[1;33m\u001b[0m\u001b[1;33m\u001b[0m\u001b[0m\n\u001b[0m\u001b[0;32m      8\u001b[0m \u001b[1;32mfrom\u001b[0m \u001b[0msurprise\u001b[0m\u001b[1;33m.\u001b[0m\u001b[0mmodel_selection\u001b[0m \u001b[1;32mimport\u001b[0m \u001b[0mcross_validate\u001b[0m\u001b[1;33m\u001b[0m\u001b[1;33m\u001b[0m\u001b[0m\n",
      "\u001b[1;31mModuleNotFoundError\u001b[0m: No module named 'surprise'"
     ]
    }
   ],
   "source": [
    "import time\n",
    "import numpy as np\n",
    "import pandas as pd\n",
    "import os\n",
    "import matplotlib.pyplot as plt\n",
    "import re\n",
    "from surprise import SVD, Reader, Dataset\n",
    "from surprise.model_selection import cross_validate"
   ]
  },
  {
   "cell_type": "markdown",
   "metadata": {},
   "source": [
    "<p style=\"font-family: Arial; font-size:1.75em;color:#2462C0; font-style:bold\">\n",
    "Loading data</p>"
   ]
  },
  {
   "cell_type": "code",
   "execution_count": 4,
   "metadata": {
    "scrolled": true
   },
   "outputs": [],
   "source": [
    "#data = pd.read_csv(\"D:/Danial Khilji/Documents/UCLAN/Programming with Data EL-4013/Course Work 1 (Python)/Netflix data set/combined_data_1.txt\",\n",
    "#                               header = None, names = ['Customer_Id', 'Rating'], usecols = [0,1])\n",
    "data = pd.read_csv('C:/Users/dania/Documents/Python/NETFLIX Analysis/combined_data_1.txt',\n",
    "                               header = None, names = ['Customer_Id', 'Rating'], usecols = [0,1])\n",
    "\n",
    "#used to load portion of data while testing code\n",
    "#data = data.iloc[500000:900000]"
   ]
  },
  {
   "cell_type": "code",
   "execution_count": 5,
   "metadata": {},
   "outputs": [],
   "source": [
    "# Converting ratings into float data type\n",
    "data['Rating'] = data['Rating'].astype(float)"
   ]
  },
  {
   "cell_type": "markdown",
   "metadata": {},
   "source": [
    "Loading other three files and converting into float.\n",
    "\n",
    "Note: This part of the code did not worked because it caused the kernel to die constantly."
   ]
  },
  {
   "cell_type": "code",
   "execution_count": 4,
   "metadata": {},
   "outputs": [],
   "source": [
    "#data_2 = pd.read_csv('/home/student/Documents/UCLAN/combined_data_2.txt', header = None, names = ['Cust_Id', 'Rating'], usecols = [0,1])\n",
    "#data_3 = pd.read_csv('/home/student/Documents/UCLAN/combined_data_3.txt', header = None, names = ['Cust_Id', 'Rating'], usecols = [0,1])\n",
    "#data_4 = pd.read_csv('/home/student/Documents/UCLAN/combined_data_4.txt', header = None, names = ['Cust_Id', 'Rating'], usecols = [0,1])\n",
    "\n",
    "#data_2['Rating'] = data_2['Rating'].astype(float)\n",
    "#data_3['Rating'] = data_3['Rating'].astype(float)\n",
    "#data_4['Rating'] = data_4['Rating'].astype(float)\n",
    "\n",
    "#print('Dataset 2 shape: ', data_2.shape)\n",
    "#print('Dataset 3 shape: ', data_3.shape)\n",
    "#print('Dataset 4 shape: ', data_4.shape)"
   ]
  },
  {
   "cell_type": "markdown",
   "metadata": {},
   "source": [
    "Combining all the data files"
   ]
  },
  {
   "cell_type": "code",
   "execution_count": 5,
   "metadata": {},
   "outputs": [],
   "source": [
    "#data = data.append(data_2)\n",
    "#data = data.append(data_3)\n",
    "#data = data.append(data_4)"
   ]
  },
  {
   "cell_type": "markdown",
   "metadata": {},
   "source": [
    "Loading the movies title file. There were numerous ways to decode the movies title file. Only ISO-8859-1 worked fine, also known as Latin-1. Previosuly I tried loading through engine='python' which works for every file type but it did not worked here."
   ]
  },
  {
   "cell_type": "code",
   "execution_count": 7,
   "metadata": {},
   "outputs": [
    {
     "name": "stdout",
     "output_type": "stream",
     "text": [
      "            Year                          Name\n",
      "Movie_Id                                      \n",
      "1         2003.0               Dinosaur Planet\n",
      "2         2004.0    Isle of Man TT 2004 Review\n",
      "3         1997.0                     Character\n",
      "4         1994.0  Paula Abdul's Get Up & Dance\n",
      "5         2004.0      The Rise and Fall of ECW\n",
      "6         1997.0                          Sick\n",
      "7         1992.0                         8 Man\n",
      "8         2004.0    What the #$*! Do We Know!?\n",
      "9         1991.0      Class of Nuke 'Em High 2\n",
      "10        2001.0                       Fighter\n"
     ]
    }
   ],
   "source": [
    "titles = pd.read_csv('C:/Users/dania/Documents/Python/NETFLIX Analysis/movie_titles.csv', encoding = \"ISO-8859-1\", header = None, names = ['Movie_Id', 'Year', 'Name'])\n",
    "titles.set_index('Movie_Id', inplace = True)\n",
    "print (titles.head(10))"
   ]
  },
  {
   "cell_type": "code",
   "execution_count": 8,
   "metadata": {},
   "outputs": [
    {
     "data": {
      "text/plain": [
       "(17770, 2)"
      ]
     },
     "execution_count": 8,
     "metadata": {},
     "output_type": "execute_result"
    }
   ],
   "source": [
    "titles.shape"
   ]
  },
  {
   "cell_type": "code",
   "execution_count": 9,
   "metadata": {},
   "outputs": [
    {
     "name": "stdout",
     "output_type": "stream",
     "text": [
      "<class 'pandas.core.frame.DataFrame'>\n",
      "Int64Index: 17770 entries, 1 to 17770\n",
      "Data columns (total 2 columns):\n",
      " #   Column  Non-Null Count  Dtype  \n",
      "---  ------  --------------  -----  \n",
      " 0   Year    17763 non-null  float64\n",
      " 1   Name    17770 non-null  object \n",
      "dtypes: float64(1), object(1)\n",
      "memory usage: 416.5+ KB\n"
     ]
    }
   ],
   "source": [
    "titles.info()"
   ]
  },
  {
   "cell_type": "markdown",
   "metadata": {},
   "source": [
    "<p style=\"font-family: Arial; font-size:1.75em;color:#2462C0; font-style:bold\">\n",
    "Exploring Data</p> "
   ]
  },
  {
   "cell_type": "code",
   "execution_count": 8,
   "metadata": {},
   "outputs": [
    {
     "data": {
      "text/html": [
       "<div>\n",
       "<style scoped>\n",
       "    .dataframe tbody tr th:only-of-type {\n",
       "        vertical-align: middle;\n",
       "    }\n",
       "\n",
       "    .dataframe tbody tr th {\n",
       "        vertical-align: top;\n",
       "    }\n",
       "\n",
       "    .dataframe thead th {\n",
       "        text-align: right;\n",
       "    }\n",
       "</style>\n",
       "<table border=\"1\" class=\"dataframe\">\n",
       "  <thead>\n",
       "    <tr style=\"text-align: right;\">\n",
       "      <th></th>\n",
       "      <th>Customer_Id</th>\n",
       "      <th>Rating</th>\n",
       "    </tr>\n",
       "  </thead>\n",
       "  <tbody>\n",
       "    <tr>\n",
       "      <th>0</th>\n",
       "      <td>1:</td>\n",
       "      <td>NaN</td>\n",
       "    </tr>\n",
       "    <tr>\n",
       "      <th>1</th>\n",
       "      <td>1488844</td>\n",
       "      <td>3.0</td>\n",
       "    </tr>\n",
       "    <tr>\n",
       "      <th>2</th>\n",
       "      <td>822109</td>\n",
       "      <td>5.0</td>\n",
       "    </tr>\n",
       "    <tr>\n",
       "      <th>3</th>\n",
       "      <td>885013</td>\n",
       "      <td>4.0</td>\n",
       "    </tr>\n",
       "    <tr>\n",
       "      <th>4</th>\n",
       "      <td>30878</td>\n",
       "      <td>4.0</td>\n",
       "    </tr>\n",
       "  </tbody>\n",
       "</table>\n",
       "</div>"
      ],
      "text/plain": [
       "  Customer_Id  Rating\n",
       "0          1:     NaN\n",
       "1     1488844     3.0\n",
       "2      822109     5.0\n",
       "3      885013     4.0\n",
       "4       30878     4.0"
      ]
     },
     "execution_count": 8,
     "metadata": {},
     "output_type": "execute_result"
    }
   ],
   "source": [
    "data.head()"
   ]
  },
  {
   "cell_type": "markdown",
   "metadata": {},
   "source": [
    "On the first glance, it can be seen that there are only two columns and some rows contain NaN values."
   ]
  },
  {
   "cell_type": "code",
   "execution_count": 9,
   "metadata": {
    "scrolled": true
   },
   "outputs": [
    {
     "data": {
      "text/html": [
       "<div>\n",
       "<style scoped>\n",
       "    .dataframe tbody tr th:only-of-type {\n",
       "        vertical-align: middle;\n",
       "    }\n",
       "\n",
       "    .dataframe tbody tr th {\n",
       "        vertical-align: top;\n",
       "    }\n",
       "\n",
       "    .dataframe thead th {\n",
       "        text-align: right;\n",
       "    }\n",
       "</style>\n",
       "<table border=\"1\" class=\"dataframe\">\n",
       "  <thead>\n",
       "    <tr style=\"text-align: right;\">\n",
       "      <th></th>\n",
       "      <th>Rating</th>\n",
       "    </tr>\n",
       "  </thead>\n",
       "  <tbody>\n",
       "    <tr>\n",
       "      <th>count</th>\n",
       "      <td>2.405376e+07</td>\n",
       "    </tr>\n",
       "    <tr>\n",
       "      <th>mean</th>\n",
       "      <td>3.599634e+00</td>\n",
       "    </tr>\n",
       "    <tr>\n",
       "      <th>std</th>\n",
       "      <td>1.086118e+00</td>\n",
       "    </tr>\n",
       "    <tr>\n",
       "      <th>min</th>\n",
       "      <td>1.000000e+00</td>\n",
       "    </tr>\n",
       "    <tr>\n",
       "      <th>25%</th>\n",
       "      <td>3.000000e+00</td>\n",
       "    </tr>\n",
       "    <tr>\n",
       "      <th>50%</th>\n",
       "      <td>4.000000e+00</td>\n",
       "    </tr>\n",
       "    <tr>\n",
       "      <th>75%</th>\n",
       "      <td>4.000000e+00</td>\n",
       "    </tr>\n",
       "    <tr>\n",
       "      <th>max</th>\n",
       "      <td>5.000000e+00</td>\n",
       "    </tr>\n",
       "  </tbody>\n",
       "</table>\n",
       "</div>"
      ],
      "text/plain": [
       "             Rating\n",
       "count  2.405376e+07\n",
       "mean   3.599634e+00\n",
       "std    1.086118e+00\n",
       "min    1.000000e+00\n",
       "25%    3.000000e+00\n",
       "50%    4.000000e+00\n",
       "75%    4.000000e+00\n",
       "max    5.000000e+00"
      ]
     },
     "execution_count": 9,
     "metadata": {},
     "output_type": "execute_result"
    }
   ],
   "source": [
    "data.describe()"
   ]
  },
  {
   "cell_type": "code",
   "execution_count": 10,
   "metadata": {
    "scrolled": true
   },
   "outputs": [
    {
     "data": {
      "text/plain": [
       "(24058263, 2)"
      ]
     },
     "execution_count": 10,
     "metadata": {},
     "output_type": "execute_result"
    }
   ],
   "source": [
    "data.shape"
   ]
  },
  {
   "cell_type": "markdown",
   "metadata": {},
   "source": [
    "There are approximately 24 million customers!"
   ]
  },
  {
   "cell_type": "code",
   "execution_count": 11,
   "metadata": {
    "scrolled": true
   },
   "outputs": [
    {
     "name": "stdout",
     "output_type": "stream",
     "text": [
      "<class 'pandas.core.frame.DataFrame'>\n",
      "RangeIndex: 24058263 entries, 0 to 24058262\n",
      "Data columns (total 2 columns):\n",
      " #   Column       Dtype  \n",
      "---  ------       -----  \n",
      " 0   Customer_Id  object \n",
      " 1   Rating       float64\n",
      "dtypes: float64(1), object(1)\n",
      "memory usage: 367.1+ MB\n"
     ]
    }
   ],
   "source": [
    "data.info()"
   ]
  },
  {
   "cell_type": "code",
   "execution_count": 12,
   "metadata": {
    "scrolled": true
   },
   "outputs": [
    {
     "data": {
      "text/html": [
       "<div>\n",
       "<style scoped>\n",
       "    .dataframe tbody tr th:only-of-type {\n",
       "        vertical-align: middle;\n",
       "    }\n",
       "\n",
       "    .dataframe tbody tr th {\n",
       "        vertical-align: top;\n",
       "    }\n",
       "\n",
       "    .dataframe thead th {\n",
       "        text-align: right;\n",
       "    }\n",
       "</style>\n",
       "<table border=\"1\" class=\"dataframe\">\n",
       "  <thead>\n",
       "    <tr style=\"text-align: right;\">\n",
       "      <th></th>\n",
       "      <th>Customer_Id</th>\n",
       "      <th>Rating</th>\n",
       "    </tr>\n",
       "  </thead>\n",
       "  <tbody>\n",
       "    <tr>\n",
       "      <th>0</th>\n",
       "      <td>False</td>\n",
       "      <td>True</td>\n",
       "    </tr>\n",
       "    <tr>\n",
       "      <th>1</th>\n",
       "      <td>False</td>\n",
       "      <td>False</td>\n",
       "    </tr>\n",
       "    <tr>\n",
       "      <th>2</th>\n",
       "      <td>False</td>\n",
       "      <td>False</td>\n",
       "    </tr>\n",
       "    <tr>\n",
       "      <th>3</th>\n",
       "      <td>False</td>\n",
       "      <td>False</td>\n",
       "    </tr>\n",
       "    <tr>\n",
       "      <th>4</th>\n",
       "      <td>False</td>\n",
       "      <td>False</td>\n",
       "    </tr>\n",
       "    <tr>\n",
       "      <th>...</th>\n",
       "      <td>...</td>\n",
       "      <td>...</td>\n",
       "    </tr>\n",
       "    <tr>\n",
       "      <th>24058258</th>\n",
       "      <td>False</td>\n",
       "      <td>False</td>\n",
       "    </tr>\n",
       "    <tr>\n",
       "      <th>24058259</th>\n",
       "      <td>False</td>\n",
       "      <td>False</td>\n",
       "    </tr>\n",
       "    <tr>\n",
       "      <th>24058260</th>\n",
       "      <td>False</td>\n",
       "      <td>False</td>\n",
       "    </tr>\n",
       "    <tr>\n",
       "      <th>24058261</th>\n",
       "      <td>False</td>\n",
       "      <td>False</td>\n",
       "    </tr>\n",
       "    <tr>\n",
       "      <th>24058262</th>\n",
       "      <td>False</td>\n",
       "      <td>False</td>\n",
       "    </tr>\n",
       "  </tbody>\n",
       "</table>\n",
       "<p>24058263 rows × 2 columns</p>\n",
       "</div>"
      ],
      "text/plain": [
       "          Customer_Id  Rating\n",
       "0               False    True\n",
       "1               False   False\n",
       "2               False   False\n",
       "3               False   False\n",
       "4               False   False\n",
       "...               ...     ...\n",
       "24058258        False   False\n",
       "24058259        False   False\n",
       "24058260        False   False\n",
       "24058261        False   False\n",
       "24058262        False   False\n",
       "\n",
       "[24058263 rows x 2 columns]"
      ]
     },
     "execution_count": 12,
     "metadata": {},
     "output_type": "execute_result"
    }
   ],
   "source": [
    "data.isna()"
   ]
  },
  {
   "cell_type": "markdown",
   "metadata": {},
   "source": [
    " <p style=\"font-family: Arial; font-size:1.75em;color:#2462C0; font-style:bold\">\n",
    "Visualizing Data</p> "
   ]
  },
  {
   "cell_type": "markdown",
   "metadata": {},
   "source": [
    "To visualize the data, it was grouped by Rating columns and total number of ratings for each value of rating was calculated. Total number of unique customers were then calculated."
   ]
  },
  {
   "cell_type": "code",
   "execution_count": 13,
   "metadata": {},
   "outputs": [
    {
     "name": "stdout",
     "output_type": "stream",
     "text": [
      "Number of movies per each rating: \n",
      "          count\n",
      "Rating         \n",
      "1.0     1118186\n",
      "2.0     2439073\n",
      "3.0     6904181\n",
      "4.0     8085741\n",
      "5.0     5506583\n",
      "Total number of ratings:  24058263\n",
      "Total number of unique customers:  475257\n"
     ]
    }
   ],
   "source": [
    "spread = data.groupby('Rating')['Rating'].agg(['count'])\n",
    "print(\"Number of movies per each rating: \")\n",
    "print(spread)\n",
    "#movie_count variable is used later\n",
    "movie_count = data.isnull().sum()[1]\n",
    "\n",
    "# total rating count\n",
    "rating_count = data['Customer_Id'].count()\n",
    "print('Total number of ratings: ', rating_count)\n",
    "# total unique customer count\n",
    "customer_count = data['Customer_Id'].nunique()\n",
    "print('Total number of unique customers: ', customer_count)"
   ]
  },
  {
   "cell_type": "markdown",
   "metadata": {},
   "source": [
    "Horizontal bar plot was used to visualize percentage of each rating out of total number of ratings. On a scale of 0-5, the general trend is that there is a higher number of movies in the rating 3 or above. Small number of rating for 2 or below is due to the fact that people generally tend to not to rate a movie if it is not entertaining to them. Therefore, if a movie is having a low rating it means that it is considerabally worse. "
   ]
  },
  {
   "cell_type": "code",
   "execution_count": 14,
   "metadata": {},
   "outputs": [
    {
     "data": {
      "image/png": "[encoded data removed]",
      "text/plain": [
       "<Figure size 1080x720 with 1 Axes>"
      ]
     },
     "metadata": {
      "needs_background": "light"
     },
     "output_type": "display_data"
    }
   ],
   "source": [
    "ax = spread.plot(kind = 'barh', legend = False, figsize = (15,10))\n",
    "plt.title('Total: {:,} Movies, {:,} Customers and {:,} Ratings'.format(movie_count, customer_count, rating_count), fontsize = 20)\n",
    "plt.axis('on')\n",
    "#for loop to calculate percentages for each bar\n",
    "for i in range(1,6):\n",
    "    ax.text(spread.iloc[i-1][0]/4, i-1, 'Rating {}: {:0f}%'.format(i, spread.iloc[i-1][0]*100 / spread.sum()[0]), color = 'white', weight = 'bold')"
   ]
  },
  {
   "cell_type": "markdown",
   "metadata": {},
   "source": [
    "<p style=\"font-family: Arial; font-size:1.75em;color:#2462C0; font-style:bold\">\n",
    "Cleaning Data</p> "
   ]
  },
  {
   "cell_type": "code",
   "execution_count": 15,
   "metadata": {
    "scrolled": true
   },
   "outputs": [
    {
     "name": "stdout",
     "output_type": "stream",
     "text": [
      "Total number of unique customer after removing null values:  470758\n",
      "Total number of ratings after removing null values:  24053764\n"
     ]
    }
   ],
   "source": [
    "# total customer count after removing null values\n",
    "customer_count_clean = data['Customer_Id'].nunique() - movie_count\n",
    "print('Total number of unique customer after removing null values: ', customer_count_clean)\n",
    "\n",
    "# total rating count after removing null values\n",
    "rating_count_clean = data['Customer_Id'].count() - movie_count\n",
    "print('Total number of ratings after removing null values: ', rating_count_clean)"
   ]
  },
  {
   "cell_type": "markdown",
   "metadata": {},
   "source": [
    "To insert movie ID column in the main dataset:"
   ]
  },
  {
   "cell_type": "code",
   "execution_count": 16,
   "metadata": {},
   "outputs": [
    {
     "name": "stdout",
     "output_type": "stream",
     "text": [
      "Movie numpy: [1.000e+00 1.000e+00 1.000e+00 ... 4.499e+03 4.499e+03 4.499e+03]\n",
      "Length: 24053764\n"
     ]
    }
   ],
   "source": [
    "data_null = pd.DataFrame(pd.isnull(data.Rating))\n",
    "data_null = data_null[data_null['Rating'] == True]\n",
    "data_indx = data_null.reset_index()\n",
    "\n",
    "movie_arr = []\n",
    "movie_id = 1\n",
    "\n",
    "for i,j in zip(data_indx['index'][1:],data_indx['index'][:-1]):\n",
    "    tmp = np.full((1,i-j-1), movie_id)\n",
    "    movie_arr = np.append(movie_arr, tmp)\n",
    "    movie_id += 1\n",
    "\n",
    "#for last row\n",
    "last_row = np.full((1,len(data) - data_indx.iloc[-1, 0] - 1), movie_id)\n",
    "movie_arr = np.append(movie_arr, last_row)\n",
    "\n",
    "print('Movie numpy: {}'.format(movie_arr))\n",
    "print('Length: {}'.format(len(movie_arr)))"
   ]
  },
  {
   "cell_type": "code",
   "execution_count": 17,
   "metadata": {},
   "outputs": [],
   "source": [
    "#Removing null values\n",
    "data = data[pd.notnull(data['Rating'])]\n",
    "#Changing data types to int for later anaysis\n",
    "data['Movie_Id'] = movie_arr.astype(int)\n",
    "data['Customer_Id'] = data['Customer_Id'].astype(int)"
   ]
  },
  {
   "cell_type": "code",
   "execution_count": 18,
   "metadata": {},
   "outputs": [
    {
     "data": {
      "text/html": [
       "<div>\n",
       "<style scoped>\n",
       "    .dataframe tbody tr th:only-of-type {\n",
       "        vertical-align: middle;\n",
       "    }\n",
       "\n",
       "    .dataframe tbody tr th {\n",
       "        vertical-align: top;\n",
       "    }\n",
       "\n",
       "    .dataframe thead th {\n",
       "        text-align: right;\n",
       "    }\n",
       "</style>\n",
       "<table border=\"1\" class=\"dataframe\">\n",
       "  <thead>\n",
       "    <tr style=\"text-align: right;\">\n",
       "      <th></th>\n",
       "      <th>Year</th>\n",
       "      <th>Name</th>\n",
       "    </tr>\n",
       "    <tr>\n",
       "      <th>Movie_Id</th>\n",
       "      <th></th>\n",
       "      <th></th>\n",
       "    </tr>\n",
       "  </thead>\n",
       "  <tbody>\n",
       "    <tr>\n",
       "      <th>1</th>\n",
       "      <td>2003.0</td>\n",
       "      <td>Dinosaur Planet</td>\n",
       "    </tr>\n",
       "    <tr>\n",
       "      <th>2</th>\n",
       "      <td>2004.0</td>\n",
       "      <td>Isle of Man TT 2004 Review</td>\n",
       "    </tr>\n",
       "    <tr>\n",
       "      <th>3</th>\n",
       "      <td>1997.0</td>\n",
       "      <td>Character</td>\n",
       "    </tr>\n",
       "    <tr>\n",
       "      <th>4</th>\n",
       "      <td>1994.0</td>\n",
       "      <td>Paula Abdul's Get Up &amp; Dance</td>\n",
       "    </tr>\n",
       "    <tr>\n",
       "      <th>5</th>\n",
       "      <td>2004.0</td>\n",
       "      <td>The Rise and Fall of ECW</td>\n",
       "    </tr>\n",
       "    <tr>\n",
       "      <th>...</th>\n",
       "      <td>...</td>\n",
       "      <td>...</td>\n",
       "    </tr>\n",
       "    <tr>\n",
       "      <th>17766</th>\n",
       "      <td>2002.0</td>\n",
       "      <td>Where the Wild Things Are and Other Maurice Se...</td>\n",
       "    </tr>\n",
       "    <tr>\n",
       "      <th>17767</th>\n",
       "      <td>2004.0</td>\n",
       "      <td>Fidel Castro: American Experience</td>\n",
       "    </tr>\n",
       "    <tr>\n",
       "      <th>17768</th>\n",
       "      <td>2000.0</td>\n",
       "      <td>Epoch</td>\n",
       "    </tr>\n",
       "    <tr>\n",
       "      <th>17769</th>\n",
       "      <td>2003.0</td>\n",
       "      <td>The Company</td>\n",
       "    </tr>\n",
       "    <tr>\n",
       "      <th>17770</th>\n",
       "      <td>2003.0</td>\n",
       "      <td>Alien Hunter</td>\n",
       "    </tr>\n",
       "  </tbody>\n",
       "</table>\n",
       "<p>17763 rows × 2 columns</p>\n",
       "</div>"
      ],
      "text/plain": [
       "            Year                                               Name\n",
       "Movie_Id                                                           \n",
       "1         2003.0                                    Dinosaur Planet\n",
       "2         2004.0                         Isle of Man TT 2004 Review\n",
       "3         1997.0                                          Character\n",
       "4         1994.0                       Paula Abdul's Get Up & Dance\n",
       "5         2004.0                           The Rise and Fall of ECW\n",
       "...          ...                                                ...\n",
       "17766     2002.0  Where the Wild Things Are and Other Maurice Se...\n",
       "17767     2004.0                  Fidel Castro: American Experience\n",
       "17768     2000.0                                              Epoch\n",
       "17769     2003.0                                        The Company\n",
       "17770     2003.0                                       Alien Hunter\n",
       "\n",
       "[17763 rows x 2 columns]"
      ]
     },
     "execution_count": 18,
     "metadata": {},
     "output_type": "execute_result"
    }
   ],
   "source": [
    "#removing NaN values from titles dataset\n",
    "titles.dropna()"
   ]
  },
  {
   "cell_type": "markdown",
   "metadata": {},
   "source": [
    "When the recommendation model below was ran, it took considerabally long time. Therefore, customers which are not actively giving feedback are ignored to improve algorithm."
   ]
  },
  {
   "cell_type": "code",
   "execution_count": 19,
   "metadata": {},
   "outputs": [
    {
     "name": "stdout",
     "output_type": "stream",
     "text": [
      "Movies with minimum reviews:  1799.0\n",
      "Customer with minimum reviews:  52.0\n"
     ]
    }
   ],
   "source": [
    "cnt_mean = ['count', 'mean']\n",
    "movie_summary = data.groupby('Movie_Id')['Rating'].agg(cnt_mean)\n",
    "movie_summary.index = movie_summary.index.map(int)\n",
    "movie_benchmark = round(movie_summary['count'].quantile(0.7),0)\n",
    "drop_movie_list = movie_summary[movie_summary['count'] < movie_benchmark].index\n",
    "print('Movies with minimum reviews: ', movie_benchmark)\n",
    "\n",
    "data_summary = data.groupby('Customer_Id')['Rating'].agg(cnt_mean)\n",
    "data_summary.index = data_summary.index.map(int)\n",
    "customer_benchmark = round(data_summary['count'].quantile(0.7),0)\n",
    "drop_customer_list = data_summary[data_summary['count'] < customer_benchmark].index\n",
    "print('Customer with minimum reviews: ', customer_benchmark)"
   ]
  },
  {
   "cell_type": "markdown",
   "metadata": {},
   "source": [
    "Pivoting dataset to organize in order by Rating, Customer ID and Movie ID, in this order."
   ]
  },
  {
   "cell_type": "code",
   "execution_count": 20,
   "metadata": {},
   "outputs": [
    {
     "name": "stdout",
     "output_type": "stream",
     "text": [
      "(470758, 4499)\n"
     ]
    }
   ],
   "source": [
    "data_pivot = pd.pivot_table(data, values='Rating', index='Customer_Id', columns='Movie_Id')\n",
    "print(data_pivot.shape)"
   ]
  },
  {
   "cell_type": "markdown",
   "metadata": {},
   "source": [
    "<p style=\"font-family: Arial; font-size:1.75em;color:#2462C0; font-style:bold\">\n",
    "Movie recommendation models</p> "
   ]
  },
  {
   "cell_type": "markdown",
   "metadata": {},
   "source": [
    "There are two main types of recommender systems namely Collaborative filtering and Content-Based recommendations. In this case, I have used the famous recommender system algorithm called SVD which is famous for its use by Simon Funk in Netflix Prize competition [salakhutdinov2008a]. Although, the algorithm for first built by Nicolas Hug. It is a collaborative filtering type of recommendation system. It uses the past liking of the person to suggest a new movie."
   ]
  },
  {
   "cell_type": "code",
   "execution_count": 21,
   "metadata": {},
   "outputs": [
    {
     "name": "stdout",
     "output_type": "stream",
     "text": [
      "Execution completed!\n",
      "Execution time:  6261.922814846039\n"
     ]
    }
   ],
   "source": [
    "start = time.time()\n",
    "reader = Reader()\n",
    "#need to load dataset using Dataset.load_from_df as a SVD surprise library requirement\n",
    "data_set = Dataset.load_from_df(data[['Customer_Id', 'Movie_Id', 'Rating']][:], reader)\n",
    "svd = SVD()\n",
    "cross_validate(svd, data_set,measures=['RMSE', 'MAE'])\n",
    "print('Execution completed!')\n",
    "duration = time.time() - start\n",
    "print('Execution time: ', duration)"
   ]
  },
  {
   "cell_type": "markdown",
   "metadata": {},
   "source": [
    "Lets check what the model will suggest that users liked the most."
   ]
  },
  {
   "cell_type": "code",
   "execution_count": 22,
   "metadata": {},
   "outputs": [
    {
     "name": "stdout",
     "output_type": "stream",
     "text": [
      "Movie_Id\n",
      "57                                            Richard III\n",
      "175                                        Reservoir Dogs\n",
      "311                                               Ed Wood\n",
      "329                                                 Dogma\n",
      "331                                           Chasing Amy\n",
      "395                                         Captain Blood\n",
      "788                                                Clerks\n",
      "798                                                  Jaws\n",
      "907                                       Animal Crackers\n",
      "985                                             The Mummy\n",
      "1552                                          Black Adder\n",
      "1905    Pirates of the Caribbean: The Curse of the Bla...\n",
      "2000                          Four Weddings and a Funeral\n",
      "2122                                 Being John Malkovich\n",
      "2342                                        Super Size Me\n",
      "2360                                  Singin' in the Rain\n",
      "2430                           Alien: Collector's Edition\n",
      "2443                             Like Water for Chocolate\n",
      "2452        Lord of the Rings: The Fellowship of the Ring\n",
      "2465                                   This Is Spinal Tap\n",
      "2554                        The Rocky Horror Picture Show\n",
      "2713                                       Glen or Glenda\n",
      "2847                                    The Mark of Zorro\n",
      "2848                                          The Hustler\n",
      "2862                             The Silence of the Lambs\n",
      "3150                     Monty Python: The Life of Python\n",
      "3168                            Evil Dead 2: Dead by Dawn\n",
      "3198                                    The Addams Family\n",
      "3315                                   The Maltese Falcon\n",
      "3446                                        Spirited Away\n",
      "3489                                         Time Bandits\n",
      "3590                              Jason and the Argonauts\n",
      "3648            Who Framed Roger Rabbit?: Special Edition\n",
      "3798                                            The Sting\n",
      "3935                                     Yellow Submarine\n",
      "3949        Terminator 2: Extreme Edition: Bonus Material\n",
      "3962                            Finding Nemo (Widescreen)\n",
      "3984                                         On the Beach\n",
      "4080                                        A Mighty Wind\n",
      "4227                                       The Full Monty\n",
      "4253                             Kind Hearts and Coronets\n",
      "4306                                      The Sixth Sense\n",
      "4345                                Bowling for Columbine\n",
      "4356                                    Road to Perdition\n",
      "4392                                     Army of Darkness\n",
      "4454                                 To Have and Have Not\n",
      "Name: Name, dtype: object\n"
     ]
    }
   ],
   "source": [
    "check = data[(data['Customer_Id'] == 785314) & (data['Rating'] == 5)]\n",
    "check = check.set_index('Movie_Id')\n",
    "check = check.join(titles)['Name']\n",
    "print(check)"
   ]
  },
  {
   "cell_type": "markdown",
   "metadata": {},
   "source": [
    "Suggestion to the user based on past feedback"
   ]
  },
  {
   "cell_type": "code",
   "execution_count": 24,
   "metadata": {},
   "outputs": [
    {
     "name": "stdout",
     "output_type": "stream",
     "text": [
      "        Year                                Name  Estimate_score\n",
      "3455  2004.0                      Lost: Season 1        4.673039\n",
      "4426  2001.0             The West Wing: Season 3        4.583990\n",
      "2113  2002.0                             Firefly        4.520188\n",
      "2161  2000.0                       CSI: Season 1        4.509440\n",
      "4237  2000.0                           Inu-Yasha        4.488223\n",
      "1475  2004.0            Six Feet Under: Season 4        4.483182\n",
      "3927  2004.0                  Nip/Tuck: Season 2        4.477603\n",
      "3957  2003.0                      Monk: Season 2        4.471096\n",
      "1494  2001.0                     Alias: Season 1        4.427878\n",
      "773   2003.0                  Foyle's War: Set 2        4.427698\n",
      "2781  1995.0                          Braveheart        4.423591\n",
      "2802  1995.0                 Pride and Prejudice        4.420615\n",
      "1946  2002.0             Gilmore Girls: Season 3        4.420421\n",
      "3961  2003.0           Finding Nemo (Widescreen)        4.404949\n",
      "3289  1974.0                       The Godfather        4.403300\n",
      "2056  2001.0  Buffy the Vampire Slayer: Season 6        4.382042\n",
      "3022  1973.0                            Upstairs        4.366902\n",
      "2018  2004.0                    Samurai Champloo        4.354933\n",
      "2547  2000.0             Gilmore Girls: Season 1        4.351862\n",
      "4305  1999.0                     The Sixth Sense        4.341487\n"
     ]
    }
   ],
   "source": [
    "sgtn = titles.copy()\n",
    "sgtn = sgtn.reset_index()\n",
    "sgtn = sgtn[~sgtn['Movie_Id'].isin(drop_movie_list)]\n",
    "\n",
    "data_new = Dataset.load_from_df(data[['Customer_Id', 'Movie_Id', 'Rating']], reader)\n",
    "\n",
    "training = data_new.build_full_trainset()\n",
    "\n",
    "sgtn['Estimate_score'] = sgtn['Movie_Id'].apply(lambda x: svd.predict(7885314, x).est)\n",
    "sgtn = sgtn.drop('Movie_Id', axis = 1)\n",
    "sgtn = sgtn.sort_values('Estimate_score', ascending = False)\n",
    "print(sgtn.head(20))"
   ]
  },
  {
   "cell_type": "markdown",
   "metadata": {},
   "source": [
    " The next model is Pearsons´ R correlation recommendation model. It is used to measure correlation between review score and pairs of movies. For this method I have made a function so that it can be used anytime with different movie name. Function will first find index of movie from the list then apply correlation."
   ]
  },
  {
   "cell_type": "code",
   "execution_count": 25,
   "metadata": {},
   "outputs": [],
   "source": [
    "def pearson_r(movie_name, min_count):\n",
    "    print('Top 10 recommendations are: ')\n",
    "    movie_indx = int(titles.index[titles['Name'] == movie_name][0])\n",
    "    target = data_pivot[movie_indx]\n",
    "    similar = data_pivot.corrwith(target)\n",
    "    corr = pd.DataFrame(similar, columns = ['PearsonR'])\n",
    "    corr.dropna(inplace = True)\n",
    "    corr = corr.sort_values('PearsonR', ascending = False)\n",
    "    corr.index = corr.index.map(int)\n",
    "    corr = corr.join(titles).join(movie_summary)[['PearsonR', 'Name', 'count', 'mean']]\n",
    "    print(corr[corr['count']>min_count][:10].to_string(index=False))"
   ]
  },
  {
   "cell_type": "markdown",
   "metadata": {},
   "source": [
    "Now I can simply ask suggestion for any movie by simply asking the function person_r."
   ]
  },
  {
   "cell_type": "code",
   "execution_count": 27,
   "metadata": {},
   "outputs": [
    {
     "name": "stdout",
     "output_type": "stream",
     "text": [
      "Movie suggetions based on:  Lord of the Rings: The Fellowship of the Ring\n",
      "Top 10 recommendations are: \n",
      " PearsonR                                           Name   count      mean\n",
      " 1.000000  Lord of the Rings: The Fellowship of the Ring  149866  4.434708\n",
      " 0.641471           Thomas & Friends: 10 Years of Thomas      64  3.593750\n",
      " 0.580950                      Bram Stoker's: To Die For      36  2.000000\n",
      " 0.545162            Karl Rove: The Architect: Frontline      46  3.478261\n",
      " 0.487345                     Adventures of Mini-Goddess      98  3.510204\n",
      " 0.478696                      Voltage Fighter Gowcaizer     108  3.018519\n",
      " 0.457220                 Jean Renoir: Elena and Her Men     111  2.720721\n",
      " 0.456583                                     Postmortem      84  2.595238\n",
      " 0.453819                          Sahib Bibi Aur Ghulam     127  3.314961\n",
      " 0.449465                      Joe Pass: An Evening With     122  3.655738\n",
      "\n",
      "Movie suggetions based on:  2 Fast 2 Furious\n",
      "Top 10 recommendations are: \n",
      " PearsonR                              Name  count      mean\n",
      " 1.000000                  2 Fast 2 Furious  35457  3.317540\n",
      " 0.786214           Ghost Hunters: Season 1     44  4.272727\n",
      " 0.710958      Mary Poppins: Bonus Material    159  3.974843\n",
      " 0.687290                           Jubilee    196  2.535714\n",
      " 0.686406     Expo: Magic of the White City     42  3.214286\n",
      " 0.679940         Bram Stoker's: To Die For     36  2.000000\n",
      " 0.674819  ECW: The Best of the Dudley Boyz    141  3.475177\n",
      " 0.670887                       Girls Bravo     87  4.057471\n",
      " 0.668522               Yoga for Meditation     92  3.097826\n",
      " 0.666080                 La Vie de Chateau    146  2.958904\n",
      "\n",
      "Movie suggetions based on:  Batman Begins\n",
      "Top 10 recommendations are: \n",
      " PearsonR                                                                          Name  count      mean\n",
      " 1.000000                                                                 Batman Begins  54922  4.236699\n",
      " 0.702112                                                       Ghost Hunters: Season 1     44  4.272727\n",
      " 0.697371                                                      The Beatles: Celebration     94  2.585106\n",
      " 0.621882                                                                        Paheli     62  3.629032\n",
      " 0.616205                                                                          Daud     79  2.493671\n",
      " 0.601304                                                                 Kiss: Exposed    111  3.063063\n",
      " 0.600687                                                                      Shalimar     80  2.375000\n",
      " 0.586635                                                                      El Grito     79  2.316456\n",
      " 0.578204                        Race to Freedom: The Story of the Underground Railroad    115  3.060870\n",
      " 0.577374  Ultimate Beginner Xpress: An Introduction to Musical Styles: Acoustic Guitar    113  2.601770\n",
      "\n"
     ]
    }
   ],
   "source": [
    "movies = ['Lord of the Rings: The Fellowship of the Ring', '2 Fast 2 Furious', 'Batman Begins']\n",
    "for i in movies:\n",
    "    print('Movie suggetions based on: ', i)\n",
    "    pearson_r(i, 0)\n",
    "    print()"
   ]
  },
  {
   "cell_type": "code",
   "execution_count": 28,
   "metadata": {},
   "outputs": [
    {
     "name": "stdout",
     "output_type": "stream",
     "text": [
      "Top 10 recommendations are: \n",
      " PearsonR                                         Name  count      mean\n",
      " 1.000000                   What the #$*! Do We Know!?  14910  3.189805\n",
      " 1.000000                                       Paheli     62  3.629032\n",
      " 0.984338  Motorcycle Mania 3: Jesse James Rides Again     94  3.574468\n",
      " 0.974315                     Detonator 2: Night Watch    124  2.701613\n",
      " 0.964184                       Pavement: Slow Century     84  3.630952\n",
      " 0.959960                                  Bears: IMAX     62  3.435484\n",
      " 0.940775                        Sahib Bibi Aur Ghulam    127  3.314961\n",
      " 0.938112              Billy Blanks: Tae Bo: Contact 2    123  2.934959\n",
      " 0.924426    NBA Street Series: Ankle Breakers: Vol. 2    122  3.278689\n",
      " 0.918559                Chained Heat 3: Hell Mountain    108  2.222222\n"
     ]
    }
   ],
   "source": [
    "pearson_r('What the #$*! Do We Know!?', 0)"
   ]
  },
  {
   "cell_type": "code",
   "execution_count": 1,
   "metadata": {},
   "outputs": [
    {
     "name": "stdout",
     "output_type": "stream",
     "text": [
      "danial\n"
     ]
    }
   ],
   "source": [
    "print('danial')"
   ]
  },
  {
   "cell_type": "markdown",
   "metadata": {},
   "source": []
  },
  {
   "cell_type": "code",
   "execution_count": null,
   "metadata": {},
   "outputs": [],
   "source": []
  }
 ],
 "metadata": {
  "kernelspec": {
   "display_name": "Python 3",
   "language": "python",
   "name": "python3"
  },
  "language_info": {
   "codemirror_mode": {
    "name": "ipython",
    "version": 3
   },
   "file_extension": ".py",
   "mimetype": "text/x-python",
   "name": "python",
   "nbconvert_exporter": "python",
   "pygments_lexer": "ipython3",
   "version": "3.8.5"
  }
 },
 "nbformat": 4,
 "nbformat_minor": 4
}
